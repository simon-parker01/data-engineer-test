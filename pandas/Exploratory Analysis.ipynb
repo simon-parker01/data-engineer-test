{
 "cells": [
  {
   "cell_type": "markdown",
   "metadata": {},
   "source": [
    "# Exploratory analysis\n",
    "\n",
    "A short notebook exploring the supplied weather data CSVs that attempts to:\n",
    "* understand the data provided \n",
    "* check for common pitfalls\n",
    "* answer the questions set out in the data engineering test to be used for reference later"
   ]
  },
  {
   "cell_type": "code",
   "execution_count": 1,
   "metadata": {},
   "outputs": [],
   "source": [
    "import pandas as pd, matplotlib"
   ]
  },
  {
   "cell_type": "code",
   "execution_count": 2,
   "metadata": {
    "scrolled": true
   },
   "outputs": [
    {
     "name": "stdout",
     "output_type": "stream",
     "text": [
      "<class 'pandas.core.frame.DataFrame'>\n",
      "RangeIndex: 93255 entries, 0 to 93254\n",
      "Data columns (total 15 columns):\n",
      " #   Column                  Non-Null Count  Dtype  \n",
      "---  ------                  --------------  -----  \n",
      " 0   ForecastSiteCode        93255 non-null  int64  \n",
      " 1   ObservationTime         93255 non-null  int64  \n",
      " 2   ObservationDate         93255 non-null  object \n",
      " 3   WindDirection           93255 non-null  int64  \n",
      " 4   WindSpeed               93255 non-null  int64  \n",
      " 5   WindGust                27093 non-null  float64\n",
      " 6   Visibility              80542 non-null  float64\n",
      " 7   ScreenTemperature       93255 non-null  float64\n",
      " 8   Pressure                86556 non-null  float64\n",
      " 9   SignificantWeatherCode  93255 non-null  int64  \n",
      " 10  SiteName                93255 non-null  object \n",
      " 11  Latitude                93255 non-null  float64\n",
      " 12  Longitude               93255 non-null  float64\n",
      " 13  Region                  93255 non-null  object \n",
      " 14  Country                 80154 non-null  object \n",
      "dtypes: float64(6), int64(5), object(4)\n",
      "memory usage: 10.7+ MB\n"
     ]
    }
   ],
   "source": [
    "weather_1 = pd.read_csv(\"weather.20160201.csv\")\n",
    "weather_1.info()"
   ]
  },
  {
   "cell_type": "code",
   "execution_count": 3,
   "metadata": {},
   "outputs": [
    {
     "name": "stdout",
     "output_type": "stream",
     "text": [
      "<class 'pandas.core.frame.DataFrame'>\n",
      "RangeIndex: 101442 entries, 0 to 101441\n",
      "Data columns (total 15 columns):\n",
      " #   Column                  Non-Null Count   Dtype  \n",
      "---  ------                  --------------   -----  \n",
      " 0   ForecastSiteCode        101442 non-null  int64  \n",
      " 1   ObservationTime         101442 non-null  int64  \n",
      " 2   ObservationDate         101442 non-null  object \n",
      " 3   WindDirection           101442 non-null  int64  \n",
      " 4   WindSpeed               101442 non-null  int64  \n",
      " 5   WindGust                16193 non-null   float64\n",
      " 6   Visibility              87662 non-null   float64\n",
      " 7   ScreenTemperature       101442 non-null  float64\n",
      " 8   Pressure                93321 non-null   float64\n",
      " 9   SignificantWeatherCode  101442 non-null  int64  \n",
      " 10  SiteName                101442 non-null  object \n",
      " 11  Latitude                101442 non-null  float64\n",
      " 12  Longitude               101442 non-null  float64\n",
      " 13  Region                  101442 non-null  object \n",
      " 14  Country                 86783 non-null   object \n",
      "dtypes: float64(6), int64(5), object(4)\n",
      "memory usage: 11.6+ MB\n"
     ]
    }
   ],
   "source": [
    "weather_2 = pd.read_csv(\"weather.20160301.csv\")\n",
    "weather_2.info()"
   ]
  },
  {
   "cell_type": "code",
   "execution_count": 4,
   "metadata": {},
   "outputs": [
    {
     "data": {
      "text/plain": [
       "True"
      ]
     },
     "execution_count": 4,
     "metadata": {},
     "output_type": "execute_result"
    }
   ],
   "source": [
    "#check that columns are the same\n",
    "weather_1.shape[1] == len(weather_1.columns.intersection(weather_2.columns))"
   ]
  },
  {
   "cell_type": "code",
   "execution_count": 5,
   "metadata": {},
   "outputs": [
    {
     "data": {
      "text/plain": [
       "True"
      ]
     },
     "execution_count": 5,
     "metadata": {},
     "output_type": "execute_result"
    }
   ],
   "source": [
    "#check for there are no null values in the temperature column\n",
    "not weather_1.ScreenTemperature.isnull().any() and not weather_1.ScreenTemperature.isnull().any()"
   ]
  },
  {
   "cell_type": "code",
   "execution_count": 6,
   "metadata": {},
   "outputs": [],
   "source": [
    "#combine both data sets\n",
    "weather_total = pd.concat([weather_1, weather_2]).reset_index()"
   ]
  },
  {
   "cell_type": "code",
   "execution_count": 7,
   "metadata": {},
   "outputs": [
    {
     "data": {
      "text/plain": [
       "True"
      ]
     },
     "execution_count": 7,
     "metadata": {},
     "output_type": "execute_result"
    }
   ],
   "source": [
    "#check for errors by checking that the combinedd dataframe has correct number of rows \n",
    "# e.g. differnt Dtypes for the same column name would result in duplicate rows\n",
    "len(weather_total.index) == len(weather_1.index) + len(weather_2.index)"
   ]
  },
  {
   "cell_type": "code",
   "execution_count": 8,
   "metadata": {},
   "outputs": [
    {
     "data": {
      "text/plain": [
       "<matplotlib.axes._subplots.AxesSubplot at 0x1e89bc694c8>"
      ]
     },
     "execution_count": 8,
     "metadata": {},
     "output_type": "execute_result"
    },
    {
     "data": {
      "image/png": "[encoded data removed]",
      "text/plain": [
       "<Figure size 432x288 with 1 Axes>"
      ]
     },
     "metadata": {
      "needs_background": "light"
     },
     "output_type": "display_data"
    }
   ],
   "source": [
    "# visualise temperature readings\n",
    "weather_total.plot.scatter(x='ObservationDate', y='ScreenTemperature')"
   ]
  },
  {
   "cell_type": "markdown",
   "metadata": {},
   "source": [
    "## Answer to question set in test"
   ]
  },
  {
   "cell_type": "code",
   "execution_count": 9,
   "metadata": {},
   "outputs": [
    {
     "data": {
      "text/html": [
       "<div>\n",
       "<style scoped>\n",
       "    .dataframe tbody tr th:only-of-type {\n",
       "        vertical-align: middle;\n",
       "    }\n",
       "\n",
       "    .dataframe tbody tr th {\n",
       "        vertical-align: top;\n",
       "    }\n",
       "\n",
       "    .dataframe thead th {\n",
       "        text-align: right;\n",
       "    }\n",
       "</style>\n",
       "<table border=\"1\" class=\"dataframe\">\n",
       "  <thead>\n",
       "    <tr style=\"text-align: right;\">\n",
       "      <th></th>\n",
       "      <th>ObservationDate</th>\n",
       "      <th>ScreenTemperature</th>\n",
       "      <th>Region</th>\n",
       "    </tr>\n",
       "  </thead>\n",
       "  <tbody>\n",
       "    <tr>\n",
       "      <th>147768</th>\n",
       "      <td>2016-03-17T00:00:00</td>\n",
       "      <td>15.8</td>\n",
       "      <td>Highland &amp; Eilean Siar</td>\n",
       "    </tr>\n",
       "  </tbody>\n",
       "</table>\n",
       "</div>"
      ],
      "text/plain": [
       "            ObservationDate  ScreenTemperature                  Region\n",
       "147768  2016-03-17T00:00:00               15.8  Highland & Eilean Siar"
      ]
     },
     "execution_count": 9,
     "metadata": {},
     "output_type": "execute_result"
    }
   ],
   "source": [
    "#query dataframe to answer questions set in data engineering test for later reference\n",
    "weather_total.loc[weather_total[['ScreenTemperature']].idxmax(), ['ObservationDate','ScreenTemperature','Region']]"
   ]
  },
  {
   "cell_type": "code",
   "execution_count": 10,
   "metadata": {
    "scrolled": true
   },
   "outputs": [],
   "source": [
    "weather_total.to_parquet(path='pandas_parquet.parquet', compression='gzip')"
   ]
  },
  {
   "cell_type": "code",
   "execution_count": 11,
   "metadata": {},
   "outputs": [
    {
     "data": {
      "text/html": [
       "<div>\n",
       "<style scoped>\n",
       "    .dataframe tbody tr th:only-of-type {\n",
       "        vertical-align: middle;\n",
       "    }\n",
       "\n",
       "    .dataframe tbody tr th {\n",
       "        vertical-align: top;\n",
       "    }\n",
       "\n",
       "    .dataframe thead th {\n",
       "        text-align: right;\n",
       "    }\n",
       "</style>\n",
       "<table border=\"1\" class=\"dataframe\">\n",
       "  <thead>\n",
       "    <tr style=\"text-align: right;\">\n",
       "      <th>ColdReading</th>\n",
       "      <th>False</th>\n",
       "      <th>True</th>\n",
       "    </tr>\n",
       "    <tr>\n",
       "      <th>Region</th>\n",
       "      <th></th>\n",
       "      <th></th>\n",
       "    </tr>\n",
       "  </thead>\n",
       "  <tbody>\n",
       "    <tr>\n",
       "      <th>Central Tayside &amp; Fife</th>\n",
       "      <td>99.98</td>\n",
       "      <td>0.02</td>\n",
       "    </tr>\n",
       "    <tr>\n",
       "      <th>Dumfries, Galloway</th>\n",
       "      <td>99.94</td>\n",
       "      <td>0.06</td>\n",
       "    </tr>\n",
       "    <tr>\n",
       "      <th>East Midlands</th>\n",
       "      <td>99.95</td>\n",
       "      <td>0.05</td>\n",
       "    </tr>\n",
       "    <tr>\n",
       "      <th>East of England</th>\n",
       "      <td>99.93</td>\n",
       "      <td>0.07</td>\n",
       "    </tr>\n",
       "    <tr>\n",
       "      <th>Grampian</th>\n",
       "      <td>99.84</td>\n",
       "      <td>0.16</td>\n",
       "    </tr>\n",
       "    <tr>\n",
       "      <th>Highland &amp; Eilean Siar</th>\n",
       "      <td>99.90</td>\n",
       "      <td>0.10</td>\n",
       "    </tr>\n",
       "    <tr>\n",
       "      <th>London &amp; South East England</th>\n",
       "      <td>99.96</td>\n",
       "      <td>0.04</td>\n",
       "    </tr>\n",
       "    <tr>\n",
       "      <th>North East England</th>\n",
       "      <td>99.98</td>\n",
       "      <td>0.02</td>\n",
       "    </tr>\n",
       "    <tr>\n",
       "      <th>North West England</th>\n",
       "      <td>92.97</td>\n",
       "      <td>7.03</td>\n",
       "    </tr>\n",
       "    <tr>\n",
       "      <th>Northern Ireland</th>\n",
       "      <td>87.37</td>\n",
       "      <td>12.63</td>\n",
       "    </tr>\n",
       "    <tr>\n",
       "      <th>Orkney &amp; Shetland</th>\n",
       "      <td>92.40</td>\n",
       "      <td>7.60</td>\n",
       "    </tr>\n",
       "    <tr>\n",
       "      <th>South West England</th>\n",
       "      <td>99.97</td>\n",
       "      <td>0.03</td>\n",
       "    </tr>\n",
       "    <tr>\n",
       "      <th>Strathclyde</th>\n",
       "      <td>99.94</td>\n",
       "      <td>0.06</td>\n",
       "    </tr>\n",
       "    <tr>\n",
       "      <th>Wales</th>\n",
       "      <td>99.99</td>\n",
       "      <td>0.01</td>\n",
       "    </tr>\n",
       "    <tr>\n",
       "      <th>West Midlands</th>\n",
       "      <td>99.94</td>\n",
       "      <td>0.06</td>\n",
       "    </tr>\n",
       "    <tr>\n",
       "      <th>Yorkshire &amp; Humber</th>\n",
       "      <td>99.81</td>\n",
       "      <td>0.19</td>\n",
       "    </tr>\n",
       "  </tbody>\n",
       "</table>\n",
       "</div>"
      ],
      "text/plain": [
       "ColdReading                  False  True \n",
       "Region                                   \n",
       "Central Tayside & Fife       99.98   0.02\n",
       "Dumfries, Galloway           99.94   0.06\n",
       "East Midlands                99.95   0.05\n",
       "East of England              99.93   0.07\n",
       "Grampian                     99.84   0.16\n",
       "Highland & Eilean Siar       99.90   0.10\n",
       "London & South East England  99.96   0.04\n",
       "North East England           99.98   0.02\n",
       "North West England           92.97   7.03\n",
       "Northern Ireland             87.37  12.63\n",
       "Orkney & Shetland            92.40   7.60\n",
       "South West England           99.97   0.03\n",
       "Strathclyde                  99.94   0.06\n",
       "Wales                        99.99   0.01\n",
       "West Midlands                99.94   0.06\n",
       "Yorkshire & Humber           99.81   0.19"
      ]
     },
     "execution_count": 11,
     "metadata": {},
     "output_type": "execute_result"
    }
   ],
   "source": [
    "# investigate cold readings\n",
    "weather_total['ColdReading'] = weather_total.ScreenTemperature.apply(lambda x: True if x<-80 else False)\n",
    "cold_df = weather_total[['Region', 'ColdReading','ScreenTemperature']].groupby(\n",
    "    ['Region', \"ColdReading\"]).agg(\n",
    "    {'ScreenTemperature':'count'})\n",
    "\n",
    "cold_df = cold_df.groupby('Region').apply(lambda x:100 * x / float(x.sum())).reset_index()\n",
    "cold_df = cold_df.pivot(index='Region', columns='ColdReading', values='ScreenTemperature')\n",
    "pd.options.display.float_format = \"{:,.2f}\".format\n",
    "cold_df\n"
   ]
  },
  {
   "cell_type": "code",
   "execution_count": null,
   "metadata": {},
   "outputs": [],
   "source": []
  }
 ],
 "metadata": {
  "kernelspec": {
   "display_name": "Python [conda env:Anaconda3]",
   "language": "python",
   "name": "conda-env-Anaconda3-py"
  },
  "language_info": {
   "codemirror_mode": {
    "name": "ipython",
    "version": 3
   },
   "file_extension": ".py",
   "mimetype": "text/x-python",
   "name": "python",
   "nbconvert_exporter": "python",
   "pygments_lexer": "ipython3",
   "version": "3.7.6"
  }
 },
 "nbformat": 4,
 "nbformat_minor": 4
}
